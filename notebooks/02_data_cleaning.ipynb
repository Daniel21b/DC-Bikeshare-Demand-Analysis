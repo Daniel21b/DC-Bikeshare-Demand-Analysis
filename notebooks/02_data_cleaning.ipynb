{
  "cells": [
    {
      "cell_type": "markdown",
      "metadata": {},
      "source": [
        "# 02 - DC Bikeshare Data Cleaning & Feature Engineering\n",
        "\n",
        "This notebook performs comprehensive data cleaning and creates derived features for analysis.\n",
        "\n",
        "## Objectives\n",
        "1. Load raw combined data\n",
        "2. Standardize column names and data types\n",
        "3. Remove invalid/outlier trips\n",
        "4. Engineer temporal features (hour, day, season, etc.)\n",
        "5. Create categorical features for analysis\n",
        "6. Save cleaned dataset\n",
        "\n",
        "---\n"
      ]
    },
    {
      "cell_type": "markdown",
      "metadata": {},
      "source": [
        "## 1. Import Libraries\n"
      ]
    },
    {
      "cell_type": "code",
      "execution_count": 1,
      "metadata": {},
      "outputs": [
        {
          "name": "stdout",
          "output_type": "stream",
          "text": [
            "Libraries imported successfully!\n"
          ]
        }
      ],
      "source": [
        "import pandas as pd\n",
        "import numpy as np\n",
        "from datetime import datetime, timedelta\n",
        "import warnings\n",
        "warnings.filterwarnings('ignore')\n",
        "\n",
        "print(\"Libraries imported successfully!\")\n"
      ]
    },
    {
      "cell_type": "markdown",
      "metadata": {},
      "source": [
        "## 2. Load Raw Data\n"
      ]
    },
    {
      "cell_type": "code",
      "execution_count": 2,
      "metadata": {},
      "outputs": [
        {
          "name": "stdout",
          "output_type": "stream",
          "text": [
            "Loaded 705,343 records\n",
            "Columns: ['ride_id', 'rideable_type', 'started_at', 'ended_at', 'start_station_name', 'start_station_id', 'end_station_name', 'end_station_id', 'start_lat', 'start_lng', 'end_lat', 'end_lng', 'member_casual', 'source_file']\n"
          ]
        }
      ],
      "source": [
        "bikeshare_df = pd.read_parquet('../data/processed/bikeshare_raw_combined.parquet')\n",
        "\n",
        "print(f\"Loaded {len(bikeshare_df):,} records\")\n",
        "print(f\"Columns: {list(bikeshare_df.columns)}\")\n",
        "original_count = len(bikeshare_df)\n"
      ]
    },
    {
      "cell_type": "markdown",
      "metadata": {},
      "source": [
        "## 3. Convert Data Types\n"
      ]
    },
    {
      "cell_type": "code",
      "execution_count": 3,
      "metadata": {},
      "outputs": [
        {
          "name": "stdout",
          "output_type": "stream",
          "text": [
            "Converting timestamps...\n",
            "Calculating trip duration...\n",
            "✓ Data types converted\n",
            "  Duration range: 0.00 to 1499.97 minutes\n"
          ]
        }
      ],
      "source": [
        "print(\"Converting timestamps...\")\n",
        "bikeshare_df['started_at'] = pd.to_datetime(bikeshare_df['started_at'])\n",
        "bikeshare_df['ended_at'] = pd.to_datetime(bikeshare_df['ended_at'])\n",
        "\n",
        "print(\"Calculating trip duration...\")\n",
        "bikeshare_df['duration_sec'] = (bikeshare_df['ended_at'] - bikeshare_df['started_at']).dt.total_seconds()\n",
        "bikeshare_df['duration_min'] = bikeshare_df['duration_sec'] / 60\n",
        "\n",
        "print(f\"✓ Data types converted\")\n",
        "print(f\"  Duration range: {bikeshare_df['duration_min'].min():.2f} to {bikeshare_df['duration_min'].max():.2f} minutes\")\n"
      ]
    },
    {
      "cell_type": "markdown",
      "metadata": {},
      "source": [
        "## 4. Data Cleaning - Remove Invalid Trips\n"
      ]
    },
    {
      "cell_type": "code",
      "execution_count": 4,
      "metadata": {},
      "outputs": [
        {
          "name": "stdout",
          "output_type": "stream",
          "text": [
            "Data Cleaning Criteria:\n",
            "============================================================\n",
            "1. Trips < 1 minute: 18,295\n",
            "2. Trips > 24 hours: 728\n",
            "3. Missing start station: 202,208\n",
            "4. Missing end station: 207,950\n",
            "\n",
            "============================================================\n",
            "Applying filters...\n",
            "\n",
            "✓ Cleaning complete:\n",
            "  Records removed: 270,854 (38.40%)\n",
            "  Records remaining: 434,489\n"
          ]
        }
      ],
      "source": [
        "print(\"Data Cleaning Criteria:\")\n",
        "print(\"=\" * 60)\n",
        "\n",
        "before_count = len(bikeshare_df)\n",
        "\n",
        "too_short = (bikeshare_df['duration_sec'] < 60).sum()\n",
        "print(f\"1. Trips < 1 minute: {too_short:,}\")\n",
        "\n",
        "too_long = (bikeshare_df['duration_sec'] > 86400).sum()\n",
        "print(f\"2. Trips > 24 hours: {too_long:,}\")\n",
        "\n",
        "missing_start = bikeshare_df['start_station_name'].isna().sum()\n",
        "print(f\"3. Missing start station: {missing_start:,}\")\n",
        "\n",
        "missing_end = bikeshare_df['end_station_name'].isna().sum()\n",
        "print(f\"4. Missing end station: {missing_end:,}\")\n",
        "\n",
        "print(\"\\n\" + \"=\" * 60)\n",
        "print(\"Applying filters...\")\n",
        "\n",
        "bikeshare_df = bikeshare_df[\n",
        "    (bikeshare_df['duration_sec'] >= 60) &\n",
        "    (bikeshare_df['duration_sec'] <= 86400) &\n",
        "    (bikeshare_df['start_station_name'].notna()) &\n",
        "    (bikeshare_df['end_station_name'].notna())\n",
        "].copy()\n",
        "\n",
        "after_count = len(bikeshare_df)\n",
        "removed = before_count - after_count\n",
        "\n",
        "print(f\"\\n✓ Cleaning complete:\")\n",
        "print(f\"  Records removed: {removed:,} ({removed/before_count*100:.2f}%)\")\n",
        "print(f\"  Records remaining: {after_count:,}\")\n"
      ]
    },
    {
      "cell_type": "markdown",
      "metadata": {},
      "source": [
        "## 5. Feature Engineering - Temporal Features\n"
      ]
    },
    {
      "cell_type": "code",
      "execution_count": 5,
      "metadata": {},
      "outputs": [
        {
          "name": "stdout",
          "output_type": "stream",
          "text": [
            "Creating temporal features...\n",
            "✓ Basic temporal features created:\n",
            "  Hour range: 0 to 23\n",
            "  Days of week: ['Friday', 'Monday', 'Saturday', 'Sunday', 'Thursday', 'Tuesday', 'Wednesday']\n",
            "  Months: ['July', 'June']\n"
          ]
        }
      ],
      "source": [
        "print(\"Creating temporal features...\")\n",
        "\n",
        "bikeshare_df['hour'] = bikeshare_df['started_at'].dt.hour\n",
        "bikeshare_df['day_of_week'] = bikeshare_df['started_at'].dt.dayofweek\n",
        "bikeshare_df['day_name'] = bikeshare_df['started_at'].dt.day_name()\n",
        "bikeshare_df['month'] = bikeshare_df['started_at'].dt.month\n",
        "bikeshare_df['month_name'] = bikeshare_df['started_at'].dt.month_name()\n",
        "bikeshare_df['year'] = bikeshare_df['started_at'].dt.year\n",
        "bikeshare_df['date'] = bikeshare_df['started_at'].dt.date\n",
        "\n",
        "print(\"✓ Basic temporal features created:\")\n",
        "print(f\"  Hour range: {bikeshare_df['hour'].min()} to {bikeshare_df['hour'].max()}\")\n",
        "print(f\"  Days of week: {sorted(bikeshare_df['day_name'].unique())}\")\n",
        "print(f\"  Months: {sorted(bikeshare_df['month_name'].unique())}\")\n"
      ]
    },
    {
      "cell_type": "markdown",
      "metadata": {},
      "source": [
        "## 6. Feature Engineering - Season Classification\n"
      ]
    },
    {
      "cell_type": "code",
      "execution_count": 6,
      "metadata": {},
      "outputs": [
        {
          "name": "stdout",
          "output_type": "stream",
          "text": [
            "✓ Season classification created:\n",
            "season\n",
            "Summer    434489\n",
            "Name: count, dtype: int64\n"
          ]
        }
      ],
      "source": [
        "def get_season(month):\n",
        "    \"\"\"Classify month into meteorological season\"\"\"\n",
        "    if month in [12, 1, 2]:\n",
        "        return 'Winter'\n",
        "    elif month in [3, 4, 5]:\n",
        "        return 'Spring'\n",
        "    elif month in [6, 7, 8]:\n",
        "        return 'Summer'\n",
        "    else:\n",
        "        return 'Fall'\n",
        "\n",
        "bikeshare_df['season'] = bikeshare_df['month'].apply(get_season)\n",
        "\n",
        "print(\"✓ Season classification created:\")\n",
        "print(bikeshare_df['season'].value_counts().sort_index())\n"
      ]
    },
    {
      "cell_type": "markdown",
      "metadata": {},
      "source": [
        "## 7. Feature Engineering - Rush Hour & Weekend Indicators\n"
      ]
    },
    {
      "cell_type": "code",
      "execution_count": 7,
      "metadata": {},
      "outputs": [
        {
          "name": "stdout",
          "output_type": "stream",
          "text": [
            "✓ Categorical indicators created:\n",
            "  Rush hour trips: 181,168 (41.7%)\n",
            "  Weekend trips: 109,142 (25.1%)\n"
          ]
        }
      ],
      "source": [
        "bikeshare_df['is_rush_hour'] = bikeshare_df['hour'].isin([7, 8, 9, 17, 18, 19])\n",
        "bikeshare_df['is_weekend'] = bikeshare_df['day_of_week'].isin([5, 6])\n",
        "\n",
        "rush_hour_trips = bikeshare_df['is_rush_hour'].sum()\n",
        "weekend_trips = bikeshare_df['is_weekend'].sum()\n",
        "\n",
        "print(\"✓ Categorical indicators created:\")\n",
        "print(f\"  Rush hour trips: {rush_hour_trips:,} ({rush_hour_trips/len(bikeshare_df)*100:.1f}%)\")\n",
        "print(f\"  Weekend trips: {weekend_trips:,} ({weekend_trips/len(bikeshare_df)*100:.1f}%)\")\n"
      ]
    },
    {
      "cell_type": "markdown",
      "metadata": {},
      "source": [
        "## 8. Feature Engineering - Time of Day Categories\n"
      ]
    },
    {
      "cell_type": "code",
      "execution_count": 8,
      "metadata": {},
      "outputs": [
        {
          "name": "stdout",
          "output_type": "stream",
          "text": [
            "✓ Time of day categories created:\n",
            "time_category\n",
            "Evening Rush                143250\n",
            "Midday                      132105\n",
            "Morning Rush                 79710\n",
            "Night                        64987\n",
            "Late Night/Early Morning     14437\n",
            "Name: count, dtype: int64\n"
          ]
        }
      ],
      "source": [
        "def categorize_time(hour):\n",
        "    \"\"\"Categorize hour into time periods\"\"\"\n",
        "    if 6 <= hour < 10:\n",
        "        return 'Morning Rush'\n",
        "    elif 10 <= hour < 16:\n",
        "        return 'Midday'\n",
        "    elif 16 <= hour < 20:\n",
        "        return 'Evening Rush'\n",
        "    elif 20 <= hour < 24:\n",
        "        return 'Night'\n",
        "    else:\n",
        "        return 'Late Night/Early Morning'\n",
        "\n",
        "bikeshare_df['time_category'] = bikeshare_df['hour'].apply(categorize_time)\n",
        "\n",
        "print(\"✓ Time of day categories created:\")\n",
        "print(bikeshare_df['time_category'].value_counts())\n"
      ]
    },
    {
      "cell_type": "markdown",
      "metadata": {},
      "source": [
        "## 9. Feature Engineering - Route Information\n"
      ]
    },
    {
      "cell_type": "code",
      "execution_count": 9,
      "metadata": {},
      "outputs": [
        {
          "name": "stdout",
          "output_type": "stream",
          "text": [
            "✓ Route features created:\n",
            "  Unique routes: 76,420\n",
            "  Round trips: 18,562 (4.27%)\n"
          ]
        }
      ],
      "source": [
        "bikeshare_df['route'] = (\n",
        "    bikeshare_df['start_station_name'] + \n",
        "    ' → ' + \n",
        "    bikeshare_df['end_station_name']\n",
        ")\n",
        "\n",
        "bikeshare_df['is_round_trip'] = (\n",
        "    bikeshare_df['start_station_name'] == bikeshare_df['end_station_name']\n",
        ")\n",
        "\n",
        "round_trips = bikeshare_df['is_round_trip'].sum()\n",
        "unique_routes = bikeshare_df['route'].nunique()\n",
        "\n",
        "print(\"✓ Route features created:\")\n",
        "print(f\"  Unique routes: {unique_routes:,}\")\n",
        "print(f\"  Round trips: {round_trips:,} ({round_trips/len(bikeshare_df)*100:.2f}%)\")\n"
      ]
    },
    {
      "cell_type": "markdown",
      "metadata": {},
      "source": [
        "## 10. Data Quality Summary\n"
      ]
    },
    {
      "cell_type": "code",
      "execution_count": 10,
      "metadata": {},
      "outputs": [
        {
          "name": "stdout",
          "output_type": "stream",
          "text": [
            "============================================================\n",
            "DATA CLEANING & FEATURE ENGINEERING SUMMARY\n",
            "============================================================\n",
            "\n",
            "Original records: 705,343\n",
            "Final records: 434,489\n",
            "Records retained: 61.60%\n",
            "\n",
            "Final dataset columns: 29\n",
            "Date range: 2025-06-30 16:47:53.810000 to 2025-07-31 23:55:37.416000\n",
            "\n",
            "New Features Created:\n",
            "  ✓ duration_sec\n",
            "  ✓ duration_min\n",
            "  ✓ hour\n",
            "  ✓ day_of_week\n",
            "  ✓ day_name\n",
            "  ✓ month\n",
            "  ✓ month_name\n",
            "  ✓ year\n",
            "  ✓ date\n",
            "  ✓ season\n",
            "  ✓ is_rush_hour\n",
            "  ✓ is_weekend\n",
            "  ✓ time_category\n",
            "  ✓ route\n",
            "  ✓ is_round_trip\n",
            "\n",
            "Missing values check:\n",
            "end_station_id    59\n",
            "dtype: int64\n"
          ]
        }
      ],
      "source": [
        "print(\"=\" * 60)\n",
        "print(\"DATA CLEANING & FEATURE ENGINEERING SUMMARY\")\n",
        "print(\"=\" * 60)\n",
        "print(f\"\\nOriginal records: {original_count:,}\")\n",
        "print(f\"Final records: {len(bikeshare_df):,}\")\n",
        "print(f\"Records retained: {len(bikeshare_df)/original_count*100:.2f}%\")\n",
        "\n",
        "print(f\"\\nFinal dataset columns: {len(bikeshare_df.columns)}\")\n",
        "print(f\"Date range: {bikeshare_df['started_at'].min()} to {bikeshare_df['started_at'].max()}\")\n",
        "\n",
        "print(\"\\nNew Features Created:\")\n",
        "new_features = [\n",
        "    'duration_sec', 'duration_min', 'hour', 'day_of_week', 'day_name', \n",
        "    'month', 'month_name', 'year', 'date', 'season', 'is_rush_hour', \n",
        "    'is_weekend', 'time_category', 'route', 'is_round_trip'\n",
        "]\n",
        "for feat in new_features:\n",
        "    print(f\"  ✓ {feat}\")\n",
        "\n",
        "print(\"\\nMissing values check:\")\n",
        "missing = bikeshare_df.isnull().sum()\n",
        "if missing.sum() == 0:\n",
        "    print(\"  ✓ No missing values!\")\n",
        "else:\n",
        "    print(missing[missing > 0])\n"
      ]
    },
    {
      "cell_type": "markdown",
      "metadata": {},
      "source": [
        "## 11. Preview Cleaned Data\n"
      ]
    },
    {
      "cell_type": "code",
      "execution_count": 11,
      "metadata": {},
      "outputs": [
        {
          "name": "stdout",
          "output_type": "stream",
          "text": [
            "Sample of cleaned data with new features:\n"
          ]
        },
        {
          "data": {
            "text/html": [
              "<div>\n",
              "<style scoped>\n",
              "    .dataframe tbody tr th:only-of-type {\n",
              "        vertical-align: middle;\n",
              "    }\n",
              "\n",
              "    .dataframe tbody tr th {\n",
              "        vertical-align: top;\n",
              "    }\n",
              "\n",
              "    .dataframe thead th {\n",
              "        text-align: right;\n",
              "    }\n",
              "</style>\n",
              "<table border=\"1\" class=\"dataframe\">\n",
              "  <thead>\n",
              "    <tr style=\"text-align: right;\">\n",
              "      <th></th>\n",
              "      <th>started_at</th>\n",
              "      <th>start_station_name</th>\n",
              "      <th>end_station_name</th>\n",
              "      <th>duration_min</th>\n",
              "      <th>hour</th>\n",
              "      <th>day_name</th>\n",
              "      <th>season</th>\n",
              "      <th>time_category</th>\n",
              "      <th>is_rush_hour</th>\n",
              "      <th>is_weekend</th>\n",
              "      <th>member_casual</th>\n",
              "    </tr>\n",
              "  </thead>\n",
              "  <tbody>\n",
              "    <tr>\n",
              "      <th>0</th>\n",
              "      <td>2025-07-04 21:56:18.589</td>\n",
              "      <td>18th &amp; C St NW</td>\n",
              "      <td>Wisconsin Ave &amp; K St NW</td>\n",
              "      <td>15.546767</td>\n",
              "      <td>21</td>\n",
              "      <td>Friday</td>\n",
              "      <td>Summer</td>\n",
              "      <td>Night</td>\n",
              "      <td>False</td>\n",
              "      <td>False</td>\n",
              "      <td>member</td>\n",
              "    </tr>\n",
              "    <tr>\n",
              "      <th>1</th>\n",
              "      <td>2025-07-20 19:50:08.020</td>\n",
              "      <td>Potomac Ave &amp; 8th St SE</td>\n",
              "      <td>M St &amp; New Jersey Ave SE</td>\n",
              "      <td>3.590483</td>\n",
              "      <td>19</td>\n",
              "      <td>Sunday</td>\n",
              "      <td>Summer</td>\n",
              "      <td>Evening Rush</td>\n",
              "      <td>True</td>\n",
              "      <td>True</td>\n",
              "      <td>member</td>\n",
              "    </tr>\n",
              "    <tr>\n",
              "      <th>2</th>\n",
              "      <td>2025-07-15 00:08:36.191</td>\n",
              "      <td>9th &amp; G St NW</td>\n",
              "      <td>6th St &amp; Indiana Ave NW</td>\n",
              "      <td>4.007400</td>\n",
              "      <td>0</td>\n",
              "      <td>Tuesday</td>\n",
              "      <td>Summer</td>\n",
              "      <td>Late Night/Early Morning</td>\n",
              "      <td>False</td>\n",
              "      <td>False</td>\n",
              "      <td>member</td>\n",
              "    </tr>\n",
              "    <tr>\n",
              "      <th>3</th>\n",
              "      <td>2025-07-31 14:55:06.771</td>\n",
              "      <td>9th &amp; G St NW</td>\n",
              "      <td>3rd &amp; H St NW</td>\n",
              "      <td>9.312133</td>\n",
              "      <td>14</td>\n",
              "      <td>Thursday</td>\n",
              "      <td>Summer</td>\n",
              "      <td>Midday</td>\n",
              "      <td>False</td>\n",
              "      <td>False</td>\n",
              "      <td>member</td>\n",
              "    </tr>\n",
              "    <tr>\n",
              "      <th>4</th>\n",
              "      <td>2025-07-07 17:20:29.587</td>\n",
              "      <td>Tysons Metro South</td>\n",
              "      <td>Madron Ln &amp; Bermudez Ct</td>\n",
              "      <td>15.135650</td>\n",
              "      <td>17</td>\n",
              "      <td>Monday</td>\n",
              "      <td>Summer</td>\n",
              "      <td>Evening Rush</td>\n",
              "      <td>True</td>\n",
              "      <td>False</td>\n",
              "      <td>member</td>\n",
              "    </tr>\n",
              "    <tr>\n",
              "      <th>5</th>\n",
              "      <td>2025-07-13 14:51:59.595</td>\n",
              "      <td>9th &amp; N St NW</td>\n",
              "      <td>16th &amp; Harvard St NW</td>\n",
              "      <td>11.685083</td>\n",
              "      <td>14</td>\n",
              "      <td>Sunday</td>\n",
              "      <td>Summer</td>\n",
              "      <td>Midday</td>\n",
              "      <td>False</td>\n",
              "      <td>True</td>\n",
              "      <td>member</td>\n",
              "    </tr>\n",
              "    <tr>\n",
              "      <th>6</th>\n",
              "      <td>2025-07-25 13:03:29.271</td>\n",
              "      <td>9th &amp; G St NW</td>\n",
              "      <td>44th St &amp; New Mexico Ave NW</td>\n",
              "      <td>43.017967</td>\n",
              "      <td>13</td>\n",
              "      <td>Friday</td>\n",
              "      <td>Summer</td>\n",
              "      <td>Midday</td>\n",
              "      <td>False</td>\n",
              "      <td>False</td>\n",
              "      <td>member</td>\n",
              "    </tr>\n",
              "    <tr>\n",
              "      <th>7</th>\n",
              "      <td>2025-07-12 00:03:19.465</td>\n",
              "      <td>9th &amp; G St NW</td>\n",
              "      <td>19th St &amp; Pennsylvania Ave NW</td>\n",
              "      <td>18.855867</td>\n",
              "      <td>0</td>\n",
              "      <td>Saturday</td>\n",
              "      <td>Summer</td>\n",
              "      <td>Late Night/Early Morning</td>\n",
              "      <td>False</td>\n",
              "      <td>True</td>\n",
              "      <td>casual</td>\n",
              "    </tr>\n",
              "    <tr>\n",
              "      <th>8</th>\n",
              "      <td>2025-07-24 17:09:03.853</td>\n",
              "      <td>18th St &amp; Pennsylvania Ave NW</td>\n",
              "      <td>18th &amp; New Hampshire Ave NW</td>\n",
              "      <td>7.678550</td>\n",
              "      <td>17</td>\n",
              "      <td>Thursday</td>\n",
              "      <td>Summer</td>\n",
              "      <td>Evening Rush</td>\n",
              "      <td>True</td>\n",
              "      <td>False</td>\n",
              "      <td>member</td>\n",
              "    </tr>\n",
              "    <tr>\n",
              "      <th>9</th>\n",
              "      <td>2025-07-30 16:23:21.310</td>\n",
              "      <td>18th St &amp; Pennsylvania Ave NW</td>\n",
              "      <td>18th &amp; New Hampshire Ave NW</td>\n",
              "      <td>7.666183</td>\n",
              "      <td>16</td>\n",
              "      <td>Wednesday</td>\n",
              "      <td>Summer</td>\n",
              "      <td>Evening Rush</td>\n",
              "      <td>False</td>\n",
              "      <td>False</td>\n",
              "      <td>member</td>\n",
              "    </tr>\n",
              "  </tbody>\n",
              "</table>\n",
              "</div>"
            ],
            "text/plain": [
              "               started_at             start_station_name  \\\n",
              "0 2025-07-04 21:56:18.589                 18th & C St NW   \n",
              "1 2025-07-20 19:50:08.020        Potomac Ave & 8th St SE   \n",
              "2 2025-07-15 00:08:36.191                  9th & G St NW   \n",
              "3 2025-07-31 14:55:06.771                  9th & G St NW   \n",
              "4 2025-07-07 17:20:29.587             Tysons Metro South   \n",
              "5 2025-07-13 14:51:59.595                 9th & N St NW    \n",
              "6 2025-07-25 13:03:29.271                  9th & G St NW   \n",
              "7 2025-07-12 00:03:19.465                  9th & G St NW   \n",
              "8 2025-07-24 17:09:03.853  18th St & Pennsylvania Ave NW   \n",
              "9 2025-07-30 16:23:21.310  18th St & Pennsylvania Ave NW   \n",
              "\n",
              "                end_station_name  duration_min  hour   day_name  season  \\\n",
              "0        Wisconsin Ave & K St NW     15.546767    21     Friday  Summer   \n",
              "1       M St & New Jersey Ave SE      3.590483    19     Sunday  Summer   \n",
              "2        6th St & Indiana Ave NW      4.007400     0    Tuesday  Summer   \n",
              "3                  3rd & H St NW      9.312133    14   Thursday  Summer   \n",
              "4        Madron Ln & Bermudez Ct     15.135650    17     Monday  Summer   \n",
              "5           16th & Harvard St NW     11.685083    14     Sunday  Summer   \n",
              "6    44th St & New Mexico Ave NW     43.017967    13     Friday  Summer   \n",
              "7  19th St & Pennsylvania Ave NW     18.855867     0   Saturday  Summer   \n",
              "8    18th & New Hampshire Ave NW      7.678550    17   Thursday  Summer   \n",
              "9    18th & New Hampshire Ave NW      7.666183    16  Wednesday  Summer   \n",
              "\n",
              "              time_category  is_rush_hour  is_weekend member_casual  \n",
              "0                     Night         False       False        member  \n",
              "1              Evening Rush          True        True        member  \n",
              "2  Late Night/Early Morning         False       False        member  \n",
              "3                    Midday         False       False        member  \n",
              "4              Evening Rush          True       False        member  \n",
              "5                    Midday         False        True        member  \n",
              "6                    Midday         False       False        member  \n",
              "7  Late Night/Early Morning         False        True        casual  \n",
              "8              Evening Rush          True       False        member  \n",
              "9              Evening Rush         False       False        member  "
            ]
          },
          "execution_count": 11,
          "metadata": {},
          "output_type": "execute_result"
        }
      ],
      "source": [
        "print(\"Sample of cleaned data with new features:\")\n",
        "display_cols = [\n",
        "    'started_at', 'start_station_name', 'end_station_name', \n",
        "    'duration_min', 'hour', 'day_name', 'season', 'time_category', \n",
        "    'is_rush_hour', 'is_weekend', 'member_casual'\n",
        "]\n",
        "bikeshare_df[display_cols].head(10)\n"
      ]
    },
    {
      "cell_type": "markdown",
      "metadata": {},
      "source": [
        "## 12. Save Cleaned Data\n"
      ]
    },
    {
      "cell_type": "code",
      "execution_count": 12,
      "metadata": {},
      "outputs": [
        {
          "name": "stdout",
          "output_type": "stream",
          "text": [
            "✓ Cleaned data saved to: ../data/processed/bikeshare_cleaned.parquet\n",
            "  Records: 434,489\n",
            "  Columns: 29\n"
          ]
        },
        {
          "ename": "NameError",
          "evalue": "name 'os' is not defined",
          "output_type": "error",
          "traceback": [
            "\u001b[0;31m---------------------------------------------------------------------------\u001b[0m",
            "\u001b[0;31mNameError\u001b[0m                                 Traceback (most recent call last)",
            "Cell \u001b[0;32mIn[12], line 7\u001b[0m\n\u001b[1;32m      5\u001b[0m \u001b[38;5;28mprint\u001b[39m(\u001b[38;5;124mf\u001b[39m\u001b[38;5;124m\"\u001b[39m\u001b[38;5;124m  Records: \u001b[39m\u001b[38;5;132;01m{\u001b[39;00m\u001b[38;5;28mlen\u001b[39m(bikeshare_df)\u001b[38;5;132;01m:\u001b[39;00m\u001b[38;5;124m,\u001b[39m\u001b[38;5;132;01m}\u001b[39;00m\u001b[38;5;124m\"\u001b[39m)\n\u001b[1;32m      6\u001b[0m \u001b[38;5;28mprint\u001b[39m(\u001b[38;5;124mf\u001b[39m\u001b[38;5;124m\"\u001b[39m\u001b[38;5;124m  Columns: \u001b[39m\u001b[38;5;132;01m{\u001b[39;00m\u001b[38;5;28mlen\u001b[39m(bikeshare_df\u001b[38;5;241m.\u001b[39mcolumns)\u001b[38;5;132;01m}\u001b[39;00m\u001b[38;5;124m\"\u001b[39m)\n\u001b[0;32m----> 7\u001b[0m \u001b[38;5;28mprint\u001b[39m(\u001b[38;5;124mf\u001b[39m\u001b[38;5;124m\"\u001b[39m\u001b[38;5;124m  File size: \u001b[39m\u001b[38;5;132;01m{\u001b[39;00mos\u001b[38;5;241m.\u001b[39mpath\u001b[38;5;241m.\u001b[39mgetsize(output_path)\u001b[38;5;250m \u001b[39m\u001b[38;5;241m/\u001b[39m\u001b[38;5;250m \u001b[39m(\u001b[38;5;241m1024\u001b[39m\u001b[38;5;241m*\u001b[39m\u001b[38;5;241m*\u001b[39m\u001b[38;5;241m2\u001b[39m)\u001b[38;5;132;01m:\u001b[39;00m\u001b[38;5;124m.2f\u001b[39m\u001b[38;5;132;01m}\u001b[39;00m\u001b[38;5;124m MB\u001b[39m\u001b[38;5;124m\"\u001b[39m)\n\u001b[1;32m      8\u001b[0m \u001b[38;5;28mprint\u001b[39m(\u001b[38;5;124m\"\u001b[39m\u001b[38;5;130;01m\\n\u001b[39;00m\u001b[38;5;124mReady for statistical analysis in notebook 03!\u001b[39m\u001b[38;5;124m\"\u001b[39m)\n",
            "\u001b[0;31mNameError\u001b[0m: name 'os' is not defined"
          ]
        }
      ],
      "source": [
        "output_path = '../data/processed/bikeshare_cleaned.parquet'\n",
        "bikeshare_df.to_parquet(output_path, index=False)\n",
        "\n",
        "print(f\"✓ Cleaned data saved to: {output_path}\")\n",
        "print(f\"  Records: {len(bikeshare_df):,}\")\n",
        "print(f\"  Columns: {len(bikeshare_df.columns)}\")\n",
        "print(f\"  File size: {os.path.getsize(output_path) / (1024**2):.2f} MB\")\n",
        "print(\"\\nReady for statistical analysis in notebook 03!\")\n"
      ]
    }
  ],
  "metadata": {
    "kernelspec": {
      "display_name": "base",
      "language": "python",
      "name": "python3"
    },
    "language_info": {
      "codemirror_mode": {
        "name": "ipython",
        "version": 3
      },
      "file_extension": ".py",
      "mimetype": "text/x-python",
      "name": "python",
      "nbconvert_exporter": "python",
      "pygments_lexer": "ipython3",
      "version": "3.11.7"
    }
  },
  "nbformat": 4,
  "nbformat_minor": 2
}
